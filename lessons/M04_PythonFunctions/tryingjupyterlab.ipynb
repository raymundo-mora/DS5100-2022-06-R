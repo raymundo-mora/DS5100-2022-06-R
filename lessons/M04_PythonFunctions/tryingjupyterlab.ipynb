{
 "cells": [
  {
   "cell_type": "markdown",
   "id": "8f7d39ac-84d1-42a8-8d99-466f37df96e0",
   "metadata": {},
   "source": [
    "# Introduction\n",
    "\n",
    "My text goes here. \n",
    "\n",
    "Here is a list \n",
    "- unordered list\n",
    "- another item in unordered list"
   ]
  },
  {
   "cell_type": "code",
   "execution_count": 1,
   "id": "ca5be181-3f4f-4bcc-82c0-2be1b2d25d47",
   "metadata": {},
   "outputs": [],
   "source": [
    "import pandas as pd"
   ]
  },
  {
   "cell_type": "markdown",
   "id": "ef250c43-5a4d-466c-96aa-7530f0810645",
   "metadata": {},
   "source": []
  },
  {
   "cell_type": "code",
   "execution_count": null,
   "id": "62905973-7bb7-46d8-9a72-7b6d4fa1f71d",
   "metadata": {},
   "outputs": [],
   "source": []
  }
 ],
 "metadata": {
  "kernelspec": {
   "display_name": "Python 3 (ipykernel)",
   "language": "python",
   "name": "python3"
  },
  "language_info": {
   "codemirror_mode": {
    "name": "ipython",
    "version": 3
   },
   "file_extension": ".py",
   "mimetype": "text/x-python",
   "name": "python",
   "nbconvert_exporter": "python",
   "pygments_lexer": "ipython3",
   "version": "3.9.7"
  }
 },
 "nbformat": 4,
 "nbformat_minor": 5
}
